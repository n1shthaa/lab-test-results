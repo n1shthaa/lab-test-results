{
  "nbformat": 4,
  "nbformat_minor": 0,
  "metadata": {
    "colab": {
      "provenance": []
    },
    "kernelspec": {
      "name": "python3",
      "display_name": "Python 3"
    },
    "language_info": {
      "name": "python"
    }
  },
  "cells": [
    {
      "cell_type": "code",
      "source": [
        "!pip install pytesseract\n",
        "!pip install fastapi nest-asyncio pyngrok uvicorn\n",
        "!pip install python-multipart\n"
      ],
      "metadata": {
        "colab": {
          "base_uri": "https://localhost:8080/"
        },
        "id": "RdRV3h_ZARGN",
        "outputId": "c06ee1a2-0aaa-428a-9eac-ff951cb6998b"
      },
      "execution_count": null,
      "outputs": [
        {
          "output_type": "stream",
          "name": "stdout",
          "text": [
            "Requirement already satisfied: pytesseract in /usr/local/lib/python3.11/dist-packages (0.3.13)\n",
            "Requirement already satisfied: packaging>=21.3 in /usr/local/lib/python3.11/dist-packages (from pytesseract) (24.2)\n",
            "Requirement already satisfied: Pillow>=8.0.0 in /usr/local/lib/python3.11/dist-packages (from pytesseract) (11.2.1)\n",
            "Requirement already satisfied: fastapi in /usr/local/lib/python3.11/dist-packages (0.115.12)\n",
            "Requirement already satisfied: nest-asyncio in /usr/local/lib/python3.11/dist-packages (1.6.0)\n",
            "Requirement already satisfied: pyngrok in /usr/local/lib/python3.11/dist-packages (7.2.5)\n",
            "Requirement already satisfied: uvicorn in /usr/local/lib/python3.11/dist-packages (0.34.2)\n",
            "Requirement already satisfied: starlette<0.47.0,>=0.40.0 in /usr/local/lib/python3.11/dist-packages (from fastapi) (0.46.2)\n",
            "Requirement already satisfied: pydantic!=1.8,!=1.8.1,!=2.0.0,!=2.0.1,!=2.1.0,<3.0.0,>=1.7.4 in /usr/local/lib/python3.11/dist-packages (from fastapi) (2.11.3)\n",
            "Requirement already satisfied: typing-extensions>=4.8.0 in /usr/local/lib/python3.11/dist-packages (from fastapi) (4.13.2)\n",
            "Requirement already satisfied: PyYAML>=5.1 in /usr/local/lib/python3.11/dist-packages (from pyngrok) (6.0.2)\n",
            "Requirement already satisfied: click>=7.0 in /usr/local/lib/python3.11/dist-packages (from uvicorn) (8.1.8)\n",
            "Requirement already satisfied: h11>=0.8 in /usr/local/lib/python3.11/dist-packages (from uvicorn) (0.16.0)\n",
            "Requirement already satisfied: annotated-types>=0.6.0 in /usr/local/lib/python3.11/dist-packages (from pydantic!=1.8,!=1.8.1,!=2.0.0,!=2.0.1,!=2.1.0,<3.0.0,>=1.7.4->fastapi) (0.7.0)\n",
            "Requirement already satisfied: pydantic-core==2.33.1 in /usr/local/lib/python3.11/dist-packages (from pydantic!=1.8,!=1.8.1,!=2.0.0,!=2.0.1,!=2.1.0,<3.0.0,>=1.7.4->fastapi) (2.33.1)\n",
            "Requirement already satisfied: typing-inspection>=0.4.0 in /usr/local/lib/python3.11/dist-packages (from pydantic!=1.8,!=1.8.1,!=2.0.0,!=2.0.1,!=2.1.0,<3.0.0,>=1.7.4->fastapi) (0.4.0)\n",
            "Requirement already satisfied: anyio<5,>=3.6.2 in /usr/local/lib/python3.11/dist-packages (from starlette<0.47.0,>=0.40.0->fastapi) (4.9.0)\n",
            "Requirement already satisfied: idna>=2.8 in /usr/local/lib/python3.11/dist-packages (from anyio<5,>=3.6.2->starlette<0.47.0,>=0.40.0->fastapi) (3.10)\n",
            "Requirement already satisfied: sniffio>=1.1 in /usr/local/lib/python3.11/dist-packages (from anyio<5,>=3.6.2->starlette<0.47.0,>=0.40.0->fastapi) (1.3.1)\n",
            "Collecting python-multipart\n",
            "  Downloading python_multipart-0.0.20-py3-none-any.whl.metadata (1.8 kB)\n",
            "Downloading python_multipart-0.0.20-py3-none-any.whl (24 kB)\n",
            "Installing collected packages: python-multipart\n",
            "Successfully installed python-multipart-0.0.20\n"
          ]
        }
      ]
    },
    {
      "cell_type": "code",
      "execution_count": null,
      "metadata": {
        "id": "PTpS06-Es-MT"
      },
      "outputs": [],
      "source": [
        "import cv2\n",
        "import pytesseract\n",
        "from pytesseract import Output\n",
        "import re\n",
        "\n",
        "def preprocess_image(image):\n",
        "    gray = cv2.cvtColor(image, cv2.COLOR_BGR2GRAY)\n",
        "    denoised = cv2.fastNlMeansDenoising(gray, h=10)\n",
        "    threshold = cv2.threshold(denoised, 0, 255, cv2.THRESH_BINARY + cv2.THRESH_OTSU)[1]\n",
        "    return threshold\n",
        "\n",
        "def extract_text_from_image(image):\n",
        "    custom_config = r'--oem 3 --psm 6'\n",
        "    details = pytesseract.image_to_data(image, output_type=Output.DICT, config=custom_config, lang='eng')\n",
        "    return details"
      ]
    },
    {
      "cell_type": "code",
      "source": [
        "def parse_lab_results(ocr_data):\n",
        "    tests = []\n",
        "    current_test = {}\n",
        "\n",
        "    # Join all text lines while preserving position information\n",
        "    combined_text = []\n",
        "    for i in range(len(ocr_data['text'])):\n",
        "        if int(ocr_data['conf'][i]) > 60:  # Only consider confident detections\n",
        "            combined_text.append({\n",
        "                'text': ocr_data['text'][i],\n",
        "                'left': ocr_data['left'][i],\n",
        "                'top': ocr_data['top'][i],\n",
        "                'width': ocr_data['width'][i],\n",
        "                'height': ocr_data['height'][i]\n",
        "            })\n",
        "\n",
        "    # Sort by vertical position then horizontal\n",
        "    combined_text.sort(key=lambda x: (x['top'], x['left']))\n",
        "\n",
        "    # Group into lines based on vertical position\n",
        "    lines = []\n",
        "    current_line = []\n",
        "    last_top = None\n",
        "\n",
        "    for item in combined_text:\n",
        "        if last_top is None or abs(item['top'] - last_top) < item['height']/2:\n",
        "            current_line.append(item)\n",
        "        else:\n",
        "            lines.append(current_line)\n",
        "            current_line = [item]\n",
        "        last_top = item['top']\n",
        "\n",
        "    if current_line:\n",
        "        lines.append(current_line)\n",
        "\n",
        "    for line in lines:\n",
        "        line_text = ' '.join([item['text'] for item in line]).strip()\n",
        "\n",
        "        if re.match(r'^[A-Z][A-Za-z\\s]+$', line_text) and len(line_text.split()) < 5:\n",
        "            if current_test:\n",
        "                tests.append(current_test)\n",
        "            current_test = {'test_name': line_text}\n",
        "\n",
        "        elif current_test:\n",
        "            value_match = re.match(r'([\\d.,]+)\\s*([a-zA-Z/%]*)', line_text)\n",
        "            if value_match and 'value' not in current_test:\n",
        "                current_test['value'] = value_match.group(1).replace(',', '.')\n",
        "                current_test['unit'] = value_match.group(2)\n",
        "\n",
        "            range_match = re.search(r'([\\d.,]+)\\s*[-–]\\s*([\\d.,]+)', line_text)\n",
        "            if range_match and 'bio_reference_range' not in current_test:\n",
        "                current_test['bio_reference_range'] = f\"{range_match.group(1)}-{range_match.group(2)}\"\n",
        "\n",
        "    if current_test:\n",
        "        tests.append(current_test)\n",
        "\n",
        "    return tests"
      ],
      "metadata": {
        "id": "xFcDOFNkAYXn"
      },
      "execution_count": null,
      "outputs": []
    },
    {
      "cell_type": "code",
      "source": [
        "def check_out_of_range(tests):\n",
        "    for test in tests:\n",
        "        if 'value' in test and 'bio_reference_range' in test:\n",
        "            try:\n",
        "                value = float(test['value'])\n",
        "                range_parts = test['bio_reference_range'].split('-')\n",
        "                if len(range_parts) == 2:\n",
        "                    low = float(range_parts[0])\n",
        "                    high = float(range_parts[1])\n",
        "                    test['lab_test_out_of_range'] = not (low <= value <= high)\n",
        "            except (ValueError, IndexError):\n",
        "                test['lab_test_out_of_range'] = False\n",
        "        else:\n",
        "            test['lab_test_out_of_range'] = False\n",
        "    return tests"
      ],
      "metadata": {
        "id": "wreY3dliA18u"
      },
      "execution_count": null,
      "outputs": []
    },
    {
      "cell_type": "code",
      "source": [
        "from fastapi import FastAPI, UploadFile, File, HTTPException\n",
        "from fastapi.responses import JSONResponse\n",
        "import logging\n",
        "\n",
        "import numpy as np\n",
        "from PIL import Image\n",
        "import io\n",
        "\n",
        "app = FastAPI()\n",
        "# app.add_middleware(\n",
        "#     CORSMiddleware,\n",
        "#     allow_origins=['*'],\n",
        "#     allow_credentials=True,\n",
        "#     allow_methods=['*'],\n",
        "#     allow_headers=['*'],\n",
        "# )\n",
        "\n",
        "\n",
        "logger = logging.getLogger('uvicorn.error')\n",
        "logger.setLevel(logging.DEBUG)\n",
        "\n",
        "@app.post(\"/hello\")\n",
        "async def get_lab_tests(file: UploadFile = File(...)):\n",
        "    print(\"I am here!\")\n",
        "\n",
        "@app.post(\"/get-lab-tests\")\n",
        "async def get_lab_tests(file: UploadFile = File(...)):\n",
        "    # logger.debug(f\"File Name: {file.filename}\")\n",
        "    # logger.debug(f\"File Size: {len(content)}\")\n",
        "    # logger.debug(f\"File MIME Type: {file.content_type}\")\n",
        "    print(\"Hello\", file.filename)\n",
        "    try:\n",
        "        # Read and process image\n",
        "        contents = await file.read()\n",
        "        pil_image = Image.open(io.BytesIO(contents))\n",
        "        image = cv2.cvtColor(np.array(pil_image), cv2.COLOR_RGB2BGR)\n",
        "        processed_image = preprocess_image(image)\n",
        "\n",
        "        # Extract text and parse results\n",
        "        ocr_data = extract_text_from_image(processed_image)\n",
        "        tests = parse_lab_results(ocr_data)\n",
        "        tests = check_out_of_range(tests)\n",
        "\n",
        "        return JSONResponse({\n",
        "            \"success\": True,\n",
        "            \"data\": tests\n",
        "        })\n",
        "\n",
        "    except Exception as e:\n",
        "        return JSONResponse({\n",
        "            \"success\": False,\n",
        "            \"error\": str(e)\n",
        "        }, status_code=500)"
      ],
      "metadata": {
        "id": "IZ80ZIKVBILw",
        "colab": {
          "base_uri": "https://localhost:8080/"
        },
        "outputId": "17256006-e5f3-4d32-a424-2822fc0f524b"
      },
      "execution_count": 38,
      "outputs": [
        {
          "output_type": "stream",
          "name": "stderr",
          "text": [
            "ERROR:asyncio:Task exception was never retrieved\n",
            "future: <Task finished name='Task-127' coro=<Server.serve() done, defined at /usr/local/lib/python3.11/dist-packages/uvicorn/server.py:68> exception=KeyboardInterrupt()>\n",
            "Traceback (most recent call last):\n",
            "  File \"/usr/local/lib/python3.11/dist-packages/uvicorn/main.py\", line 580, in run\n",
            "    server.run()\n",
            "  File \"/usr/local/lib/python3.11/dist-packages/uvicorn/server.py\", line 66, in run\n",
            "    return asyncio.run(self.serve(sockets=sockets))\n",
            "           ^^^^^^^^^^^^^^^^^^^^^^^^^^^^^^^^^^^^^^^^\n",
            "  File \"/usr/local/lib/python3.11/dist-packages/nest_asyncio.py\", line 30, in run\n",
            "    return loop.run_until_complete(task)\n",
            "           ^^^^^^^^^^^^^^^^^^^^^^^^^^^^^\n",
            "  File \"/usr/local/lib/python3.11/dist-packages/nest_asyncio.py\", line 92, in run_until_complete\n",
            "    self._run_once()\n",
            "  File \"/usr/local/lib/python3.11/dist-packages/nest_asyncio.py\", line 133, in _run_once\n",
            "    handle._run()\n",
            "  File \"/usr/lib/python3.11/asyncio/events.py\", line 84, in _run\n",
            "    self._context.run(self._callback, *self._args)\n",
            "  File \"/usr/lib/python3.11/asyncio/tasks.py\", line 360, in __wakeup\n",
            "    self.__step()\n",
            "  File \"/usr/lib/python3.11/asyncio/tasks.py\", line 277, in __step\n",
            "    result = coro.send(None)\n",
            "             ^^^^^^^^^^^^^^^\n",
            "  File \"/usr/local/lib/python3.11/dist-packages/uvicorn/server.py\", line 69, in serve\n",
            "    with self.capture_signals():\n",
            "  File \"/usr/lib/python3.11/contextlib.py\", line 144, in __exit__\n",
            "    next(self.gen)\n",
            "  File \"/usr/local/lib/python3.11/dist-packages/uvicorn/server.py\", line 330, in capture_signals\n",
            "    signal.raise_signal(captured_signal)\n",
            "KeyboardInterrupt\n"
          ]
        }
      ]
    },
    {
      "cell_type": "code",
      "source": [],
      "metadata": {
        "id": "oezROm_DV14z"
      },
      "execution_count": null,
      "outputs": []
    },
    {
      "cell_type": "code",
      "source": [
        "import nest_asyncio\n",
        "from pyngrok import ngrok\n",
        "import uvicorn\n",
        "\n",
        "# Get your authtoken from https://dashboard.ngrok.com/get-started/your-authtoken\n",
        "auth_token = \"2wOGF9THqCezKymAwnZsoFLlCrH_6FjJxBtxuvqNeKz7EZHWH\"\n",
        "\n",
        "# Set the authtoken\n",
        "ngrok.set_auth_token(auth_token)\n",
        "\n",
        "# Connect to ngrok\n",
        "ngrok_tunnel = ngrok.connect(8000)\n",
        "\n",
        "# Print the public URL\n",
        "print('Public URL:', ngrok_tunnel.public_url)\n",
        "\n",
        "# Apply nest_asyncio\n",
        "nest_asyncio.apply()\n",
        "\n",
        "# Run the uvicorn server\n",
        "uvicorn.run(app, port=8000)"
      ],
      "metadata": {
        "colab": {
          "base_uri": "https://localhost:8080/"
        },
        "id": "7CJGppkuDk9D",
        "outputId": "276c3e04-eeb4-4d02-83fb-e7977a99d821"
      },
      "execution_count": null,
      "outputs": [
        {
          "output_type": "stream",
          "name": "stdout",
          "text": [
            "Public URL: https://7069-35-238-195-223.ngrok-free.app\n"
          ]
        },
        {
          "output_type": "stream",
          "name": "stderr",
          "text": [
            "INFO:     Started server process [329]\n",
            "INFO:     Waiting for application startup.\n",
            "INFO:     Application startup complete.\n",
            "INFO:     Uvicorn running on http://127.0.0.1:8000 (Press CTRL+C to quit)\n"
          ]
        },
        {
          "output_type": "stream",
          "name": "stdout",
          "text": [
            "INFO:     98.45.171.8:0 - \"POST /get-lab-tests HTTP/1.1\" 400 Bad Request\n",
            "INFO:     98.45.171.8:0 - \"POST /get-lab-tests HTTP/1.1\" 400 Bad Request\n"
          ]
        }
      ]
    }
  ]
}